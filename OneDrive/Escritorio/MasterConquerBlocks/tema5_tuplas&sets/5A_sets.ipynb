{
 "cells": [
  {
   "attachments": {},
   "cell_type": "markdown",
   "metadata": {},
   "source": [
    "14.Crea un set y elimina uno de sus elementos."
   ]
  },
  {
   "cell_type": "code",
   "execution_count": 1,
   "metadata": {},
   "outputs": [
    {
     "name": "stdout",
     "output_type": "stream",
     "text": [
      "{'hola', True, 88}\n"
     ]
    }
   ],
   "source": [
    "my_set={\"hola\",34,True,88}\n",
    "my_set.remove(34)\n",
    "print(my_set)"
   ]
  },
  {
   "attachments": {},
   "cell_type": "markdown",
   "metadata": {},
   "source": [
    "15.Crea un set vacío"
   ]
  },
  {
   "cell_type": "code",
   "execution_count": 2,
   "metadata": {},
   "outputs": [
    {
     "name": "stdout",
     "output_type": "stream",
     "text": [
      "<class 'dict'>\n",
      "<class 'set'>\n"
     ]
    }
   ],
   "source": [
    "set_={}\n",
    "print(type(set_)) #un set vacio es un diccionario\n",
    "my_set=set()\n",
    "print(type(my_set))"
   ]
  },
  {
   "attachments": {},
   "cell_type": "markdown",
   "metadata": {},
   "source": [
    "16.Crea dos sets y encuentra su union, su intersección y su diferencia."
   ]
  },
  {
   "cell_type": "code",
   "execution_count": 6,
   "metadata": {},
   "outputs": [
    {
     "name": "stdout",
     "output_type": "stream",
     "text": [
      "{34, 3, 40, 10, 55, 90}\n",
      "{34, 3, 40, 10, 55, 90}\n",
      "{40, 90}\n",
      "{40, 90}\n",
      "{3, 55}\n",
      "{34, 10}\n"
     ]
    }
   ],
   "source": [
    "set_1={55,3,90,40}\n",
    "set_2={34,40,90,10}\n",
    "print(set_1 | set_2) #union junta los dos sets y si hay repetidos no los muestra\n",
    "print(set_2.union(set_1)) #union junta los dos sets\n",
    "print(set_1 & set_2)#interseccion elementos comunes\n",
    "print(set_1.intersection(set_2))#interseccion elementos comunes\n",
    "print(set_1 - set_2) #elementos únicos en set_1\n",
    "print(set_2.difference(set_1))#elementos únicos en set_2"
   ]
  },
  {
   "attachments": {},
   "cell_type": "markdown",
   "metadata": {},
   "source": [
    "17.Crea un script que dados dos sets cree uno nuevo que contenga solo los elementos comunes de ambos."
   ]
  },
  {
   "cell_type": "code",
   "execution_count": 9,
   "metadata": {},
   "outputs": [
    {
     "name": "stdout",
     "output_type": "stream",
     "text": [
      "{40, 90}\n",
      "{40, 90}\n"
     ]
    }
   ],
   "source": [
    "set_1={55,3,90,40}\n",
    "set_2={34,40,90,10}\n",
    "print(set_1 & set_2)#interseccion elementos comunes\n",
    "print(set_1.intersection(set_2))#interseccion elementos comunes"
   ]
  },
  {
   "attachments": {},
   "cell_type": "markdown",
   "metadata": {},
   "source": [
    "18.Crea un script que dado un set con números devuelva el numero máximo y mínimo."
   ]
  },
  {
   "cell_type": "code",
   "execution_count": 12,
   "metadata": {},
   "outputs": [
    {
     "name": "stdout",
     "output_type": "stream",
     "text": [
      "3 90\n"
     ]
    }
   ],
   "source": [
    "set_1={55,3,90,40}\n",
    "max_set=max(set_1)\n",
    "min_set=min(set_1)\n",
    "print(min_set,max_set)"
   ]
  },
  {
   "attachments": {},
   "cell_type": "markdown",
   "metadata": {},
   "source": [
    "19.Crea un script que dados dos sets cree uno nuevo solo con los elementos únicos de cada uno de los sets."
   ]
  },
  {
   "cell_type": "code",
   "execution_count": 13,
   "metadata": {},
   "outputs": [
    {
     "name": "stdout",
     "output_type": "stream",
     "text": [
      "{34, 3, 55, 10}\n",
      "{34, 3, 55, 10}\n"
     ]
    }
   ],
   "source": [
    "set_1={55,3,90,40}\n",
    "set_2={34,40,90,10}\n",
    "print(set_1 ^ set_2)#interseccion elementos comunes\n",
    "print(set_1.symmetric_difference(set_2))#interseccion elementos comunes"
   ]
  },
  {
   "attachments": {},
   "cell_type": "markdown",
   "metadata": {},
   "source": [
    "20.Crea un set con colores y comprueba si cierto color se encuentra en el set."
   ]
  },
  {
   "cell_type": "code",
   "execution_count": 15,
   "metadata": {},
   "outputs": [
    {
     "name": "stdout",
     "output_type": "stream",
     "text": [
      "True\n",
      "False\n"
     ]
    }
   ],
   "source": [
    "color_set={\"rojo\",\"verde\",\"amarillo\",\"azul\"}\n",
    "print(\"rojo\" in color_set)\n",
    "print(\"naranja\" in color_set)"
   ]
  },
  {
   "attachments": {},
   "cell_type": "markdown",
   "metadata": {},
   "source": [
    "21.Crea un script que dados dos sets cree un nuevo set con los elementos que están en\n",
    "el primer set pero no en el segundo."
   ]
  },
  {
   "cell_type": "code",
   "execution_count": 16,
   "metadata": {},
   "outputs": [
    {
     "name": "stdout",
     "output_type": "stream",
     "text": [
      "{3, 55}\n"
     ]
    }
   ],
   "source": [
    "set_1={55,3,90,40}\n",
    "set_2={34,40,90,10}\n",
    "print(set_1 - set_2)"
   ]
  },
  {
   "attachments": {},
   "cell_type": "markdown",
   "metadata": {},
   "source": [
    "22.Crea un script que dado un set de enteros devuelva el producto de todos los números\n",
    "dentro del set."
   ]
  },
  {
   "cell_type": "code",
   "execution_count": 1,
   "metadata": {},
   "outputs": [
    {
     "name": "stdout",
     "output_type": "stream",
     "text": [
      "150\n"
     ]
    }
   ],
   "source": [
    "set_1={10,3,5}\n",
    "prod=1\n",
    "for i in set_1:\n",
    "    prod=prod*i\n",
    "print(prod)"
   ]
  }
 ],
 "metadata": {
  "kernelspec": {
   "display_name": "work",
   "language": "python",
   "name": "python3"
  },
  "language_info": {
   "codemirror_mode": {
    "name": "ipython",
    "version": 3
   },
   "file_extension": ".py",
   "mimetype": "text/x-python",
   "name": "python",
   "nbconvert_exporter": "python",
   "pygments_lexer": "ipython3",
   "version": "3.9.15"
  },
  "orig_nbformat": 4
 },
 "nbformat": 4,
 "nbformat_minor": 2
}
