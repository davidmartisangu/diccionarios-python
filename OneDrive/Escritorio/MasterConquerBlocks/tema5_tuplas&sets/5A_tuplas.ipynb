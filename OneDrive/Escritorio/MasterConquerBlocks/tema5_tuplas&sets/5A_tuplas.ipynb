{
 "cells": [
  {
   "attachments": {},
   "cell_type": "markdown",
   "metadata": {},
   "source": [
    "1. Crea una tupla con tres elementos y imprime por pantalla cada uno de ellos en una\n",
    "nueva linea."
   ]
  },
  {
   "cell_type": "code",
   "execution_count": 2,
   "metadata": {},
   "outputs": [
    {
     "name": "stdout",
     "output_type": "stream",
     "text": [
      "<class 'tuple'>\n",
      "1\n",
      "2\n",
      "3\n",
      "<generator object <genexpr> at 0x0000015C7D477510>\n"
     ]
    }
   ],
   "source": [
    "tupla=(1,2,3)\n",
    "print(type(tupla))\n",
    "for i in tupla:\n",
    "    print(i)\n",
    "\n"
   ]
  },
  {
   "attachments": {},
   "cell_type": "markdown",
   "metadata": {},
   "source": [
    "2. Crea una lista con tres elementos e intenta modificarla. Haz lo mismo con la tupla.\n",
    "¿Cuáles son las diferencias?"
   ]
  },
  {
   "cell_type": "code",
   "execution_count": 2,
   "metadata": {},
   "outputs": [
    {
     "ename": "AttributeError",
     "evalue": "'tuple' object has no attribute 'append'",
     "output_type": "error",
     "traceback": [
      "\u001b[1;31m---------------------------------------------------------------------------\u001b[0m",
      "\u001b[1;31mAttributeError\u001b[0m                            Traceback (most recent call last)",
      "Cell \u001b[1;32mIn[2], line 4\u001b[0m\n\u001b[0;32m      2\u001b[0m lista\u001b[39m.\u001b[39mappend(\u001b[39m\"\u001b[39m\u001b[39mhola\u001b[39m\u001b[39m\"\u001b[39m)\n\u001b[0;32m      3\u001b[0m tupla\u001b[39m=\u001b[39m(\u001b[39mTrue\u001b[39;00m,\u001b[39m2\u001b[39m,\u001b[39m\"\u001b[39m\u001b[39mperro\u001b[39m\u001b[39m\"\u001b[39m)\n\u001b[1;32m----> 4\u001b[0m tupla\u001b[39m.\u001b[39;49mappend(\u001b[39m\"\u001b[39m\u001b[39mhola\u001b[39m\u001b[39m\"\u001b[39m)\n\u001b[0;32m      5\u001b[0m \u001b[39mprint\u001b[39m(lista,tupla)\n",
      "\u001b[1;31mAttributeError\u001b[0m: 'tuple' object has no attribute 'append'"
     ]
    }
   ],
   "source": [
    "lista=[True,2,\"perro\"]\n",
    "lista.append(\"hola\")\n",
    "tupla=(True,2,\"perro\")\n",
    "tupla.append(\"hola\")  #no deja modificar tuplas\n",
    "print(lista,tupla)"
   ]
  },
  {
   "attachments": {},
   "cell_type": "markdown",
   "metadata": {},
   "source": [
    "3. Crea una tupla de enteros y devuelve la suma de los elementos."
   ]
  },
  {
   "cell_type": "code",
   "execution_count": 4,
   "metadata": {},
   "outputs": [
    {
     "name": "stdout",
     "output_type": "stream",
     "text": [
      "112\n"
     ]
    }
   ],
   "source": [
    "tupla=(47,3,6,56)\n",
    "suma=sum(tupla)\n",
    "print(suma)"
   ]
  },
  {
   "attachments": {},
   "cell_type": "markdown",
   "metadata": {},
   "source": [
    "4. Crea un script que dada una tupla que contiene strings cree una nueva tupla con el\n",
    "primer caracter de cada string."
   ]
  },
  {
   "cell_type": "code",
   "execution_count": 1,
   "metadata": {},
   "outputs": [
    {
     "name": "stdout",
     "output_type": "stream",
     "text": [
      "('c', 'a', 's', 'h') <class 'tuple'>\n"
     ]
    }
   ],
   "source": [
    "tupla_strings=(\"casa\",\"ana\",\"sopa\",\"hola\")\n",
    "new_tupla=()\n",
    "new_tupla+=tuple(string[0] for string in tupla_strings)\n",
    "'''for string in tupla_strings:\n",
    "    new_tupla+=tuple(string[0])'''\n",
    "print(new_tupla,type(new_tupla))"
   ]
  },
  {
   "attachments": {},
   "cell_type": "markdown",
   "metadata": {},
   "source": [
    "5. Crea un script que dada una tupla de números devuelva el producto de todos los números pares."
   ]
  },
  {
   "cell_type": "code",
   "execution_count": 15,
   "metadata": {},
   "outputs": [
    {
     "name": "stdout",
     "output_type": "stream",
     "text": [
      "1560\n"
     ]
    }
   ],
   "source": [
    "tupla=(3,6,26,10)\n",
    "product=1\n",
    "for i in tupla:\n",
    "    if i%2==0:\n",
    "        product=product*i\n",
    "print(product)"
   ]
  },
  {
   "attachments": {},
   "cell_type": "markdown",
   "metadata": {},
   "source": [
    "6. Crea un script que dada una tupla de números, devuelva la tupla con los numeros ordeandos en orden descendente."
   ]
  },
  {
   "cell_type": "code",
   "execution_count": 1,
   "metadata": {},
   "outputs": [
    {
     "name": "stdout",
     "output_type": "stream",
     "text": [
      "(26, 10, 6, 3)\n",
      "(10, 26, 6, 3)\n"
     ]
    }
   ],
   "source": [
    "tupla=(3,6,26,10)\n",
    "invers_tupla=tuple(sorted(tupla,reverse=True))\n",
    "revers_tupla=tuple(reversed(tupla)) # lo que hace es darle la vuelta a la tupla\n",
    "print(invers_tupla)\n",
    "print(revers_tupla)"
   ]
  },
  {
   "attachments": {},
   "cell_type": "markdown",
   "metadata": {},
   "source": [
    "7. Crea un script que dada una tupla con números enteros repetidos, elimine los duplicados. (Puedes usar sets)."
   ]
  },
  {
   "cell_type": "code",
   "execution_count": 22,
   "metadata": {},
   "outputs": [
    {
     "name": "stdout",
     "output_type": "stream",
     "text": [
      "{10, 26, 3, 6}\n"
     ]
    }
   ],
   "source": [
    "tupla=(3,6,26,10,6,10)\n",
    "unique=set(tupla)\n",
    "print(unique)"
   ]
  },
  {
   "attachments": {},
   "cell_type": "markdown",
   "metadata": {},
   "source": [
    "8. Crea un script que dada una tupla y un numero entero, devuelve verdadero si el\n",
    "numero se encuentra en la tupla y falso en el caso contrario."
   ]
  },
  {
   "cell_type": "code",
   "execution_count": 28,
   "metadata": {},
   "outputs": [
    {
     "name": "stdout",
     "output_type": "stream",
     "text": [
      "True\n",
      "False\n"
     ]
    }
   ],
   "source": [
    "tupla=(3,6,26,10)\n",
    "print(6 in tupla)\n",
    "print(32 in tupla)"
   ]
  },
  {
   "attachments": {},
   "cell_type": "markdown",
   "metadata": {},
   "source": [
    "9. Crea un script que dadas dos tuplas cree una tupla resultante de la union de ambas."
   ]
  },
  {
   "cell_type": "code",
   "execution_count": 2,
   "metadata": {},
   "outputs": [
    {
     "name": "stdout",
     "output_type": "stream",
     "text": [
      "((3, 13), (6, 62), (26, 236), (10, 1))\n",
      "(13, 62, 236, 1, 5, 3, 6, 26, 10)\n"
     ]
    }
   ],
   "source": [
    "tupla=(3,6,26,10)\n",
    "tupla_1=(13,62,236,1,5)\n",
    "#tupla_combine=tuple(zip(tupla,tupla_1)) #SI UNA DE LAS DOS TUPLAS TIENE MÁS NUMEROS NO UNE LOS NUMEROS DE MÁS\n",
    "tupla_combine_2=tupla_1 + tupla\n",
    "#print(tupla_combine)\n",
    "print(tupla_combine_2)"
   ]
  },
  {
   "attachments": {},
   "cell_type": "markdown",
   "metadata": {},
   "source": [
    "10. Crea un script que dada una tupla de números devuelva e máximo y el mínimo."
   ]
  },
  {
   "cell_type": "code",
   "execution_count": 31,
   "metadata": {},
   "outputs": [
    {
     "name": "stdout",
     "output_type": "stream",
     "text": [
      "26 3\n"
     ]
    }
   ],
   "source": [
    "tupla=(3,6,26,10)\n",
    "maximo=max(tupla)\n",
    "minimo=min(tupla)\n",
    "print(maximo,minimo)"
   ]
  },
  {
   "attachments": {},
   "cell_type": "markdown",
   "metadata": {},
   "source": [
    "11. Crea un script que dada una tupla con strings devuelva el string más largo y el más\n",
    "corto. (Prueba añadiendo key=len a las funciones max y min)."
   ]
  },
  {
   "cell_type": "code",
   "execution_count": 34,
   "metadata": {},
   "outputs": [
    {
     "name": "stdout",
     "output_type": "stream",
     "text": [
      "programacion ana\n"
     ]
    }
   ],
   "source": [
    "strings_1=(\"bitcoin\",\"ana\",\"programacion\",\"hola\")\n",
    "max_string=max(strings_1,key=len)\n",
    "min_string=min(strings_1,key=len)\n",
    "print(max_string,min_string)"
   ]
  },
  {
   "attachments": {},
   "cell_type": "markdown",
   "metadata": {},
   "source": [
    "12. Crea un script que dada una tupla devuelva el contenido en orden revertido."
   ]
  },
  {
   "cell_type": "code",
   "execution_count": 3,
   "metadata": {},
   "outputs": [
    {
     "name": "stdout",
     "output_type": "stream",
     "text": [
      "('hola', 'programacion', 10, 'bitcoin')\n",
      "('hola', 'programacion', 10, 'bitcoin')\n"
     ]
    }
   ],
   "source": [
    "tupla_1=(\"bitcoin\",10,\"programacion\",\"hola\")\n",
    "reverse_tupla_1=tuple(reversed(tupla_1))\n",
    "reverse_tupla=tupla_1[::-1]\n",
    "print(reverse_tupla_1)\n",
    "print(reverse_tupla)"
   ]
  },
  {
   "attachments": {},
   "cell_type": "markdown",
   "metadata": {},
   "source": [
    "13. Crea un script que dada una tupla de tuplas, donde cada tupla interna contiene dos\n",
    "elementos, devuelva una nueva tupla en la que cada elemento sea la suma de los dos\n",
    "elementos de la tupla interna correspondiente."
   ]
  },
  {
   "cell_type": "code",
   "execution_count": 13,
   "metadata": {},
   "outputs": [
    {
     "name": "stdout",
     "output_type": "stream",
     "text": [
      "(15, 93, 28)\n"
     ]
    }
   ],
   "source": [
    "tupla_=((5,10),(90,3),(22,6))\n",
    "sum_tupla = tuple(sum(i) for i in tupla_)\n",
    "print(sum_tupla)\n",
    "#comprensión de tuplas para iterar sobre cada tupla interna, calcular la suma de sus elementos usando la función sum(), \n",
    "#y luego crear una nueva tupla con estas sumas usando la función tuple(). La nueva tupla resultante contiene la suma de los \n",
    "#elementos de cada tupla interna original."
   ]
  },
  {
   "cell_type": "code",
   "execution_count": 5,
   "metadata": {},
   "outputs": [
    {
     "name": "stdout",
     "output_type": "stream",
     "text": [
      "(15, 93, 28)\n"
     ]
    }
   ],
   "source": [
    "tupla_=((5,10),(90,3),(22,6))\n",
    "list=[]\n",
    "for i in tupla_:\n",
    "    suma=sum(i)\n",
    "    list.append(suma)\n",
    "sum_tupla_=tuple(list)\n",
    "print(sum_tupla_)"
   ]
  }
 ],
 "metadata": {
  "kernelspec": {
   "display_name": "work",
   "language": "python",
   "name": "python3"
  },
  "language_info": {
   "codemirror_mode": {
    "name": "ipython",
    "version": 3
   },
   "file_extension": ".py",
   "mimetype": "text/x-python",
   "name": "python",
   "nbconvert_exporter": "python",
   "pygments_lexer": "ipython3",
   "version": "3.9.15"
  },
  "orig_nbformat": 4
 },
 "nbformat": 4,
 "nbformat_minor": 2
}
